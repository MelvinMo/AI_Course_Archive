{
  "nbformat": 4,
  "nbformat_minor": 0,
  "metadata": {
    "colab": {
      "provenance": []
    },
    "kernelspec": {
      "name": "python3",
      "display_name": "Python 3"
    },
    "language_info": {
      "name": "python"
    }
  },
  "cells": [
    {
      "cell_type": "code",
      "execution_count": 24,
      "metadata": {
        "id": "gghTIbkvTqSJ"
      },
      "outputs": [],
      "source": [
        "import numpy as np\n",
        "x = np.array([[10,20,30],[15,25,35],[12,22,32],[18,28,38],[14,24,34]])\n"
      ]
    },
    {
      "cell_type": "code",
      "source": [
        "y = np.array([40,45,42,48,44])"
      ],
      "metadata": {
        "id": "O2FFWZFYUN5s"
      },
      "execution_count": 26,
      "outputs": []
    },
    {
      "cell_type": "code",
      "source": [
        "\n",
        "w = np.random.rand(1,3)\n",
        "lr = 0.0001\n",
        "epoch = 2000\n",
        "for i in range(epoch):\n",
        "  y_pred = w@x.T\n",
        "  loss = np.sum(np.power(y-y_pred,2))/5\n",
        "  grad = -2* (x.T@(y-y_pred).T).T/5\n",
        "  w -= lr * grad\n",
        "  if i%50 == 0:\n",
        "    print(loss)\n",
        "\n"
      ],
      "metadata": {
        "colab": {
          "base_uri": "https://localhost:8080/"
        },
        "id": "9G8iskhsUoBy",
        "outputId": "ea5fb80e-02a5-4a2d-b895-f77103f27cc1"
      },
      "execution_count": 35,
      "outputs": [
        {
          "output_type": "stream",
          "name": "stdout",
          "text": [
            "665.6660614070672\n",
            "4.485898327980105\n",
            "4.284083227210844\n",
            "4.091347541961209\n",
            "3.907282800388093\n",
            "3.7314989072989726\n",
            "3.563623317408813\n",
            "3.4033002457911095\n",
            "3.250189913849711\n",
            "3.103967829213622\n",
            "2.9643240980282703\n",
            "2.830962768186084\n",
            "2.703601202104229\n",
            "2.581969477720443\n",
            "2.4658098164371927\n",
            "2.3548760368019885\n",
            "2.2489330327659878\n",
            "2.1477562754150585\n",
            "2.051131337117396\n",
            "1.9588534370790955\n",
            "1.8707270073447115\n",
            "1.7865652783228634\n",
            "1.7061898829585327\n",
            "1.6294304787132277\n",
            "1.5561243865517327\n",
            "1.4861162461704471\n",
            "1.4192576867365365\n",
            "1.3554070124402144\n",
            "1.294428902193532\n",
            "1.2361941228394429\n",
            "1.1805792552631686\n",
            "1.1274664328255943\n",
            "1.0767430915640683\n",
            "1.028301731631497\n",
            "0.9820396894679535\n",
            "0.9378589202219816\n",
            "0.8956657899605647\n",
            "0.8553708772272494\n",
            "0.8168887835279864\n",
            "0.7801379523429146\n"
          ]
        }
      ]
    },
    {
      "cell_type": "code",
      "source": [],
      "metadata": {
        "id": "mqRr04sxbXeJ"
      },
      "execution_count": null,
      "outputs": []
    }
  ]
}